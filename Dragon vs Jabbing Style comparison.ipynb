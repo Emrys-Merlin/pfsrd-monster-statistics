{
 "cells": [
  {
   "cell_type": "markdown",
   "metadata": {},
   "source": [
    "# Dragon vs Jabbing Style\n",
    "\n",
    "This question started the whole project.\n",
    "I was wondering which of the two style paths has a higher damage output. Assuming that all my attacks hit clearly the answer was the jabbing style. However, most of the jabbing damage comes from the later attacks, which are less likely to hit, whereas dragon style leads to more damage on your first attack. \n",
    "\n",
    "Then I decided to challenge myself, because I did not want to do the computation with a fixed armor class, but (more realistically I hoped) specifying the challenge rating of the opponent averaging over the distribution of armor classes. This functionality has been exported to the monster.py module. \n",
    "\n",
    "This notebook is an example computation of my Level 10 Brawler (which is not particularly optimized for damage)."
   ]
  },
  {
   "cell_type": "code",
   "execution_count": 1,
   "metadata": {},
   "outputs": [],
   "source": [
    "%matplotlib inline\n",
    "import pandas as pd\n",
    "import numpy as np\n",
    "import matplotlib.pyplot as plt\n",
    "import seaborn as sns\n",
    "sns.set()\n",
    "import os\n",
    "from dotenv import dotenv_values\n",
    "\n",
    "from monsters import Monsters"
   ]
  },
  {
   "cell_type": "code",
   "execution_count": 2,
   "metadata": {},
   "outputs": [],
   "source": [
    "path = dotenv_values()['MONSTER_PATH']"
   ]
  },
  {
   "cell_type": "markdown",
   "metadata": {},
   "source": [
    "The variable $m$ contains the whole monster database with auxiliarly methods to compute the necessary statistics"
   ]
  },
  {
   "cell_type": "code",
   "execution_count": 3,
   "metadata": {},
   "outputs": [
    {
     "name": "stderr",
     "output_type": "stream",
     "text": [
      "/home/tim/Projekte/Pathfinder/monsters.py:55: UserWarning: Pandas doesn't allow columns to be created via a new attribute name - see https://pandas.pydata.org/pandas-docs/stable/indexing.html#attribute-access\n",
      "  self.cr = self.groupby('CR').agg(['mean', 'std'])\n"
     ]
    }
   ],
   "source": [
    "m = Monsters(path)"
   ]
  },
  {
   "cell_type": "markdown",
   "metadata": {},
   "source": [
    "The necessary properties of my brawler.\n",
    "I also assume that I have the feats weapon focus (unarmed strike) and elemental fists\n",
    "I did the computations without power attack. If desired this can be easily adapted. Also I did the computations with Brawler's flurry active"
   ]
  },
  {
   "cell_type": "code",
   "execution_count": 4,
   "metadata": {},
   "outputs": [],
   "source": [
    "str_mod = 4\n",
    "bab = 10\n",
    "magic_weapon = 2\n",
    "weapon_focus = 1\n",
    "mali = 2"
   ]
  },
  {
   "cell_type": "code",
   "execution_count": 5,
   "metadata": {},
   "outputs": [],
   "source": [
    "offset = str_mod + bab + magic_weapon + weapon_focus - mali\n",
    "ar_offsets = [offset]*2 + [offset - 5]*2"
   ]
  },
  {
   "cell_type": "markdown",
   "metadata": {},
   "source": [
    "I assume challenge rating 12 (we have 3 mythic tiers and are 5 people in the party). Maybe even 13 would make sense"
   ]
  },
  {
   "cell_type": "code",
   "execution_count": 6,
   "metadata": {},
   "outputs": [],
   "source": [
    "cr = 12"
   ]
  },
  {
   "cell_type": "markdown",
   "metadata": {},
   "source": [
    "## Dragon style setup\n",
    "We need the damage roles for the dragon style feat chain"
   ]
  },
  {
   "cell_type": "code",
   "execution_count": 7,
   "metadata": {},
   "outputs": [],
   "source": [
    "dmg_rolls = [\n",
    "    f'1d10+3d6+{2*str_mod+magic_weapon}', #Brawler damage die + elemental fist (as monk of the four winds) + 2x str (bc of Dragon Ferocity)\n",
    "    f'1d10+{int(1.5*str_mod+magic_weapon)}', #1.5x str bc of Dragon Ferocity\n",
    "    f'1d10+{int(1.5*str_mod+magic_weapon)}', # as above\n",
    "    f'1d10+{int(1.5*str_mod+magic_weapon)}', # as above\n",
    "]"
   ]
  },
  {
   "cell_type": "markdown",
   "metadata": {},
   "source": [
    "Probability to hit:"
   ]
  },
  {
   "cell_type": "code",
   "execution_count": 8,
   "metadata": {},
   "outputs": [
    {
     "name": "stdout",
     "output_type": "stream",
     "text": [
      "1. attack: 0.468\n",
      "2. attack: 0.468\n",
      "3. attack: 0.223\n",
      "4. attack: 0.223\n"
     ]
    }
   ],
   "source": [
    "for i, p in enumerate(m.hit_probability(ar_offsets, cr)):\n",
    "    print(f'{i+1}. attack: {p:.3f}')"
   ]
  },
  {
   "cell_type": "markdown",
   "metadata": {},
   "source": [
    "This was worse than I expected :-D\n",
    "\n",
    "### Damage estimation (Dragon style)"
   ]
  },
  {
   "cell_type": "code",
   "execution_count": 9,
   "metadata": {},
   "outputs": [
    {
     "name": "stdout",
     "output_type": "stream",
     "text": [
      "1. attack: 12.16 +/- 2.82\n",
      "2. attack:  6.31 +/- 1.96\n",
      "3. attack:  3.01 +/- 1.36\n",
      "4. attack:  3.01 +/- 1.36\n",
      "\n",
      "Total:     24.48 +/- 3.93\n"
     ]
    }
   ],
   "source": [
    "total_mean = 0.\n",
    "total_std = 0.\n",
    "for i, (mean, std) in enumerate(m.expected_damage(dmg_rolls, ar_offsets, cr)):\n",
    "    print(f'{i+1}. attack: {mean:5.2f} +/- {std:1.2f}')\n",
    "    total_mean += mean\n",
    "    total_std += std**2\n",
    "    \n",
    "\n",
    "print(f'\\nTotal: {total_mean:9.2f} +/- {np.sqrt(total_std):.2f}')"
   ]
  },
  {
   "cell_type": "markdown",
   "metadata": {},
   "source": [
    "# Jabbing style\n",
    "Jabbing style is more involved, because the later damage depends upon the previous hits. So I will for now only compute the mean damage (and even there might be an error regarding the probabilities, so pleas correct me :-)"
   ]
  },
  {
   "cell_type": "code",
   "execution_count": 10,
   "metadata": {},
   "outputs": [
    {
     "name": "stdout",
     "output_type": "stream",
     "text": [
      "            Dmg (p(once) / p(>once))\n",
      "1. attack:  7.01 (0.00 / 0.00)\n",
      "2. attack:  6.91 (0.47 / 0.00)\n",
      "3. attack:  4.36 (0.72 / 0.22)\n",
      "4. attack:  4.85 (0.78 / 0.34)\n",
      "\n",
      "Total:     23.12\n"
     ]
    }
   ],
   "source": [
    "p_hit_once = 0.\n",
    "p_hit_more_than_once = 0.\n",
    "total_mean = 0.\n",
    "\n",
    "print('            Dmg (p(once) / p(>once))')\n",
    "\n",
    "for i, p in enumerate(m.hit_probability(ar_offsets, cr)):\n",
    "    mean = p*(str_mod + magic_weapon + 5.5 + p_hit_once*7 + p_hit_more_than_once*14) # str + enahncement + damage dice\n",
    "    if i == 0: mean += p*3.5 # elemental fist on first attack\n",
    "    print(f'{i+1}. attack: {mean:5.2f} ({p_hit_once:02.02f} / {p_hit_more_than_once:02.02f})')\n",
    "    total_mean += mean\n",
    "    \n",
    "    p_hit_more_than_once += (1 - p_hit_more_than_once)*p_hit_once*p\n",
    "    p_hit_once += (1 - p_hit_once)*p\n",
    "    \n",
    "    \n",
    "print(f'\\nTotal: {total_mean:9.2f}')"
   ]
  },
  {
   "cell_type": "markdown",
   "metadata": {},
   "source": [
    "With this it seems that Dragon style and Jabbing style are pretty evened out when accounting for hit probabilities (and assuming that I did not do an error in my analysis). I find this pretty cool if it was actually an intended balancing choice."
   ]
  },
  {
   "cell_type": "code",
   "execution_count": null,
   "metadata": {},
   "outputs": [],
   "source": []
  }
 ],
 "metadata": {
  "kernelspec": {
   "display_name": "Python 3",
   "language": "python",
   "name": "python3"
  },
  "language_info": {
   "codemirror_mode": {
    "name": "ipython",
    "version": 3
   },
   "file_extension": ".py",
   "mimetype": "text/x-python",
   "name": "python",
   "nbconvert_exporter": "python",
   "pygments_lexer": "ipython3",
   "version": "3.6.5"
  }
 },
 "nbformat": 4,
 "nbformat_minor": 2
}
