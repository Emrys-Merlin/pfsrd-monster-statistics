{
 "cells": [
  {
   "cell_type": "markdown",
   "metadata": {},
   "source": [
    "# Combat maneuver success\n",
    "My brawler is focused on combat maneuvers, especially trip and disarm. This ist to figure out how good he really is at it"
   ]
  },
  {
   "cell_type": "code",
   "execution_count": 1,
   "metadata": {},
   "outputs": [],
   "source": [
    "%matplotlib inline\n",
    "import pandas as pd\n",
    "import numpy as np\n",
    "import matplotlib.pyplot as plt\n",
    "import seaborn as sns\n",
    "sns.set()\n",
    "import os\n",
    "from dotenv import dotenv_values\n",
    "\n",
    "from monsters import Monsters"
   ]
  },
  {
   "cell_type": "code",
   "execution_count": 2,
   "metadata": {},
   "outputs": [],
   "source": [
    "path = dotenv_values()['MONSTER_PATH']"
   ]
  },
  {
   "cell_type": "code",
   "execution_count": 3,
   "metadata": {},
   "outputs": [
    {
     "name": "stderr",
     "output_type": "stream",
     "text": [
      "/home/tim/Projekte/Pathfinder/monsters.py:56: UserWarning: Pandas doesn't allow columns to be created via a new attribute name - see https://pandas.pydata.org/pandas-docs/stable/indexing.html#attribute-access\n",
      "  self.cr = self.groupby('CR').agg(['mean', 'std'])\n"
     ]
    }
   ],
   "source": [
    "m = Monsters(path)"
   ]
  },
  {
   "cell_type": "markdown",
   "metadata": {},
   "source": [
    "## Character stats"
   ]
  },
  {
   "cell_type": "code",
   "execution_count": 4,
   "metadata": {},
   "outputs": [],
   "source": [
    "ability_modifier = 4 # the ability modifier used for combat maneuvers (normally Str, sometimes De)\n",
    "bab = 10\n",
    "magic_weapon = 2 # if applicable for combat maneuver, otherwise set 0\n",
    "weapon_focus = 1 # if applicable for combat maneuver,otherweise set 0\n",
    "mali = 2 # to AR eg brawler's flurry\n",
    "misc_boni = 2 # eg brawler maneuver training\n",
    "improved_cm = True\n",
    "greater_cm = True"
   ]
  },
  {
   "cell_type": "code",
   "execution_count": 5,
   "metadata": {},
   "outputs": [
    {
     "data": {
      "text/plain": [
       "21"
      ]
     },
     "execution_count": 5,
     "metadata": {},
     "output_type": "execute_result"
    }
   ],
   "source": [
    "cmb = bab + ability_modifier + magic_weapon + weapon_focus + misc_boni - mali + 2*improved_cm + 2*greater_cm\n",
    "cmb"
   ]
  },
  {
   "cell_type": "code",
   "execution_count": 6,
   "metadata": {},
   "outputs": [],
   "source": [
    "ar_offsets = [cmb]*2 + [cmb - 5]*2"
   ]
  },
  {
   "cell_type": "markdown",
   "metadata": {},
   "source": [
    "## Challenge rating\n",
    "My brawler is Level 10 and because of things I think 12 could be a good approximation for the opposite challenge rating"
   ]
  },
  {
   "cell_type": "code",
   "execution_count": 7,
   "metadata": {},
   "outputs": [],
   "source": [
    "cr = 12"
   ]
  },
  {
   "cell_type": "markdown",
   "metadata": {},
   "source": [
    "## Success chance with brawler's flurry"
   ]
  },
  {
   "cell_type": "code",
   "execution_count": 8,
   "metadata": {},
   "outputs": [
    {
     "name": "stdout",
     "output_type": "stream",
     "text": [
      "Probability to succeed: 0.64\n"
     ]
    }
   ],
   "source": [
    "p_tot = 1\n",
    "for p in m.hit_probability(ar_offsets, cr, defense='cmd'):\n",
    "    p_tot *= (1-p)\n",
    "    \n",
    "print(f'Probability to succeed: {1 - p_tot:.2f}')"
   ]
  },
  {
   "cell_type": "markdown",
   "metadata": {},
   "source": [
    "## Success chance without brawler's flurry"
   ]
  },
  {
   "cell_type": "code",
   "execution_count": 9,
   "metadata": {},
   "outputs": [],
   "source": [
    "ability_modifier = 4 # the ability modifier used for combat maneuvers (normally Str, sometimes De)\n",
    "bab = 10\n",
    "magic_weapon = 2 # if applicable for combat maneuver, otherwise set 0\n",
    "weapon_focus = 1 # if applicable for combat maneuver,otherweise set 0\n",
    "mali = 0 # to AR eg brawler's flurry\n",
    "misc_boni = 2 # eg brawler maneuver training\n",
    "improved_cm = True\n",
    "greater_cm = True"
   ]
  },
  {
   "cell_type": "code",
   "execution_count": 10,
   "metadata": {},
   "outputs": [
    {
     "data": {
      "text/plain": [
       "23"
      ]
     },
     "execution_count": 10,
     "metadata": {},
     "output_type": "execute_result"
    }
   ],
   "source": [
    "cmb = bab + ability_modifier + magic_weapon + weapon_focus + misc_boni - mali + 2*improved_cm + 2*greater_cm\n",
    "cmb"
   ]
  },
  {
   "cell_type": "code",
   "execution_count": 11,
   "metadata": {},
   "outputs": [],
   "source": [
    "ar_offsets = [cmb] + [cmb - 5]"
   ]
  },
  {
   "cell_type": "code",
   "execution_count": 12,
   "metadata": {},
   "outputs": [
    {
     "name": "stdout",
     "output_type": "stream",
     "text": [
      "Probability to succeed: 0.51\n"
     ]
    }
   ],
   "source": [
    "p_tot = 1\n",
    "for p in m.hit_probability(ar_offsets, cr, defense='cmd'):\n",
    "    p_tot *= (1-p)\n",
    "    \n",
    "print(f'Probability to succeed: {1 - p_tot:.2f}')"
   ]
  },
  {
   "cell_type": "markdown",
   "metadata": {},
   "source": [
    "Not very surprisingly it is better to attack as often as possible to maximize your chances"
   ]
  },
  {
   "cell_type": "code",
   "execution_count": null,
   "metadata": {},
   "outputs": [],
   "source": []
  }
 ],
 "metadata": {
  "kernelspec": {
   "display_name": "Python 3",
   "language": "python",
   "name": "python3"
  },
  "language_info": {
   "codemirror_mode": {
    "name": "ipython",
    "version": 3
   },
   "file_extension": ".py",
   "mimetype": "text/x-python",
   "name": "python",
   "nbconvert_exporter": "python",
   "pygments_lexer": "ipython3",
   "version": "3.6.5"
  }
 },
 "nbformat": 4,
 "nbformat_minor": 2
}
